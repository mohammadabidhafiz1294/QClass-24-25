{
 "cells": [
  {
   "cell_type": "markdown",
   "id": "12e2c256-ff0e-4ab3-880b-8730b8237411",
   "metadata": {},
   "source": [
    "<a href=\"https://qworld.net\" target=\"_blank\" align=\"left\"><img src=\"../qworld/images/header.jpg\"  align=\"left\"></a>\n",
    "<table> <tr>\n",
    "\n",
    "<table width=\"100%\"><td style=\"background-color:#ffffff;font-size:14px;font-style:italic;text-align:right;\">Prepared by <a href=\"http://cqtech.org\" target=\"_blank\"><b>CQTech</b></a>.</td></table>\n",
    "    \n",
    "$ \\newcommand{\\bra}[1]{\\langle #1|} $\n",
    "$ \\newcommand{\\ket}[1]{|#1\\rangle} $\n",
    "$ \\newcommand{\\braket}[2]{\\langle #1|#2\\rangle} $\n",
    "$ \\newcommand{\\dot}[2]{ #1 \\cdot #2} $\n",
    "$ \\newcommand{\\biginner}[2]{\\left\\langle #1,#2\\right\\rangle} $\n",
    "$ \\newcommand{\\mymatrix}[2]{\\left( \\begin{array}{#1} #2\\end{array} \\right)} $\n",
    "$ \\newcommand{\\myvector}[1]{\\mymatrix{c}{#1}} $\n",
    "$ \\newcommand{\\myrvector}[1]{\\mymatrix{r}{#1}} $\n",
    "$ \\newcommand{\\mypar}[1]{\\left( #1 \\right)} $\n",
    "$ \\newcommand{\\mybigpar}[1]{ \\Big( #1 \\Big)} $\n",
    "$ \\newcommand{\\sqrttwo}{\\frac{1}{\\sqrt{2}}} $\n",
    "$ \\newcommand{\\dsqrttwo}{\\dfrac{1}{\\sqrt{2}}} $\n",
    "$ \\newcommand{\\onehalf}{\\frac{1}{2}} $\n",
    "$ \\newcommand{\\donehalf}{\\dfrac{1}{2}} $\n",
    "$ \\newcommand{\\hadamard}{ \\mymatrix{rr}{ \\sqrttwo & \\sqrttwo \\\\ \\sqrttwo & -\\sqrttwo }} $\n",
    "$ \\newcommand{\\vzero}{\\myvector{1\\\\0}} $\n",
    "$ \\newcommand{\\vone}{\\myvector{0\\\\1}} $\n",
    "$ \\newcommand{\\vhadamardzero}{\\myvector{ \\sqrttwo \\\\  \\sqrttwo } } $\n",
    "$ \\newcommand{\\vhadamardone}{ \\myrvector{ \\sqrttwo \\\\ -\\sqrttwo } } $\n",
    "$ \\newcommand{\\myarray}[2]{ \\begin{array}{#1}#2\\end{array}} $\n",
    "$ \\newcommand{\\X}{ \\mymatrix{cc}{0 & 1 \\\\ 1 & 0}  } $\n",
    "$ \\newcommand{\\Z}{ \\mymatrix{rr}{1 & 0 \\\\ 0 & -1}  } $\n",
    "$ \\newcommand{\\Htwo}{ \\mymatrix{rrrr}{ \\frac{1}{2} & \\frac{1}{2} & \\frac{1}{2} & \\frac{1}{2} \\\\ \\frac{1}{2} & -\\frac{1}{2} & \\frac{1}{2} & -\\frac{1}{2} \\\\ \\frac{1}{2} & \\frac{1}{2} & -\\frac{1}{2} & -\\frac{1}{2} \\\\ \\frac{1}{2} & -\\frac{1}{2} & -\\frac{1}{2} & \\frac{1}{2} } } $\n",
    "$ \\newcommand{\\CNOT}{ \\mymatrix{cccc}{1 & 0 & 0 & 0 \\\\ 0 & 1 & 0 & 0 \\\\ 0 & 0 & 0 & 1 \\\\ 0 & 0 & 1 & 0} } $\n",
    "$ \\newcommand{\\norm}[1]{ \\left\\lVert #1 \\right\\rVert } $\n",
    "$ \\newcommand{\\pstate}[1]{ \\lceil \\mspace{-1mu} #1 \\mspace{-1.5mu} \\rfloor } $"
   ]
  },
  {
   "cell_type": "markdown",
   "id": "b245882c-89bb-4d3d-ac47-7d29f98ea2bc",
   "metadata": {},
   "source": [
    "# <font color=\"blue\"> Solutions for </font> Toric Code\n",
    "<hr>"
   ]
  },
  {
   "cell_type": "code",
   "execution_count": null,
   "id": "793f5698-ce56-41c7-9b30-41c876975576",
   "metadata": {},
   "outputs": [],
   "source": [
    "from qiskit import QuantumCircuit, QuantumRegister"
   ]
  },
  {
   "cell_type": "code",
   "execution_count": null,
   "id": "b711fc10-a903-475d-b466-4dadbce75fa6",
   "metadata": {},
   "outputs": [],
   "source": [
    "class ToricLattice:\n",
    "    \"\"\"\n",
    "    This class creates a toric lattice of spin qubits.\n",
    "\n",
    "    Attributes:\n",
    "    -----------\n",
    "        nx      : int\n",
    "        ny      : int\n",
    "        circuit : \"QuantumCircuit\"\n",
    "\n",
    "    Methods:\n",
    "    --------\n",
    "        apply_x\n",
    "        apply_y\n",
    "        apply_vertex_operator\n",
    "    \"\"\"\n",
    "    def __init__(self, nx, ny):\n",
    "        \"\"\"\n",
    "        Inputs:\n",
    "        -------\n",
    "            nx : Number of edges (qubits) in the x axis\n",
    "            ny : Number of edges (qubits) in the y axis\n",
    "        \"\"\"\n",
    "        self.nx = nx\n",
    "        self.ny = ny\n",
    "        self.qubits = {}\n",
    "        for col in range(nx):\n",
    "            for row in range(ny):\n",
    "                self.qubits[f\"left_{col}.{row}\"] = QuantumRegister(size=1, name=f\"left_{col}.{row}\")\n",
    "                self.qubits[f\"down_{col}.{row}\"] = QuantumRegister(size=1, name=f\"down_{col}.{row}\")\n",
    "        self.circuit = QuantumCircuit(*self.qubits.values())\n",
    "\n",
    "    def apply_x(self, plaquette_pos, edge):\n",
    "        \"\"\"\n",
    "        Applies X gate on the qubit in the specific plaquette and edge.\n",
    "\n",
    "        Inputs:\n",
    "        -------\n",
    "            plaquette_pos : Tuple,\n",
    "                x and y coordinates\n",
    "            edge          : str,\n",
    "                'left' or 'down'\n",
    "        \"\"\"\n",
    "        self.circuit.x(self.qubits[f\"{edge}_{plaquette_pos[0]}.{plaquette_pos[1]}\"])\n",
    "\n",
    "    def apply_z(self, plaquette_pos, edge):\n",
    "        \"\"\"\n",
    "        Applies Z gate on the qubit in the specific plaquette and edge.\n",
    "\n",
    "        Inputs:\n",
    "        -------\n",
    "            plaquette_pos : Tuple,\n",
    "                x and y coordinates\n",
    "            edge          : str,\n",
    "                'left' or 'down'\n",
    "        \"\"\"\n",
    "        self.circuit.z(self.qubits[f\"{edge}_{plaquette_pos[0]}.{plaquette_pos[1]}\"])\n",
    "\n",
    "    def apply_h(self, plaquette_pos, edge):\n",
    "        \"\"\"\n",
    "        Applies Hadamard gate on the qubit in the specific plaquette and edge.\n",
    "\n",
    "        Inputs:\n",
    "        -------\n",
    "            plaquette_pos : Tuple,\n",
    "                x and y coordinates\n",
    "            edge          : str,\n",
    "                'left' or 'down'\n",
    "        \"\"\"\n",
    "        self.circuit.h(self.qubits[f\"{edge}_{plaquette_pos[0]}.{plaquette_pos[1]}\"])"
   ]
  },
  {
   "cell_type": "markdown",
   "id": "29351f74-1c6f-4cbc-b013-4849e2c6799d",
   "metadata": {},
   "source": [
    "<a id=\"task1\"></a>\n",
    "#### Task 1\n",
    "\n",
    "1. Create a $4\\times 4$ toric lattice\n",
    "2. Initialize the qubits in the positions $[(0, 0), \\text{'down'}]$, $[(0, 1), \\text{'down'}]$ and $[(0, 3), \\text{'down'}]$ in the $\\vert 1 \\rangle$ state.\n",
    "3. Initialize the qubits in the positions $[(2, 0), \\text{'down'}]$, $[(2, 1), \\text{'down'}]$ and $[(2, 3), \\text{'down'}]$ in the $\\vert + \\rangle$ state.\n",
    "4. Draw the circuit."
   ]
  },
  {
   "cell_type": "code",
   "execution_count": null,
   "id": "7027cf4f-05b5-4f14-9605-b1fe626da8f0",
   "metadata": {},
   "outputs": [],
   "source": [
    "# Create the lattice\n",
    "lattice = ToricLattice(nx=4, ny=4)\n",
    "\n",
    "# Initialize the qubits in the |1> state\n",
    "lattice.apply_x((0, 0), \"down\")\n",
    "lattice.apply_x((0, 1), \"down\")\n",
    "lattice.apply_x((0, 3), \"down\")\n",
    "\n",
    "# Initialize the qubits in the |+> state\n",
    "lattice.apply_h((2, 0), \"down\")\n",
    "lattice.apply_h((2, 1), \"down\")\n",
    "lattice.apply_h((2, 3), \"down\")\n",
    "\n",
    "# Drawing\n",
    "print(lattice.circuit)"
   ]
  },
  {
   "cell_type": "markdown",
   "id": "3a247b2d-6b58-42a4-a095-50be8a06950a",
   "metadata": {},
   "source": [
    "<a id=\"task2\"></a>\n",
    "\n",
    "#### Task 2\n",
    "\n",
    "- What are the eigenstates of a Plaquette operator ?"
   ]
  },
  {
   "cell_type": "markdown",
   "id": "9c96cfaf-2537-4ae2-bd51-aba925619644",
   "metadata": {},
   "source": [
    "#### Solution \n",
    "\n",
    "The $P_{\\beta}$ is off-diagonal ($\\sigma_x$), it flips spin around a plaquette. Thus the eigenvectors can be written as\n",
    "\n",
    "when eigenvalue equal to +1 : $$\\frac{1}{\\sqrt2}(\\text{unflipped plaquette}+\\text{flipped  plaquette})$$\n",
    "\n",
    "when eigenvalue equal to -1: $$\\frac{1}{\\sqrt2}(\\text{unflipped  plaquette} - \\text{flipped plaquette})$$"
   ]
  },
  {
   "cell_type": "markdown",
   "id": "cc5eebfb-2a10-4d7a-b385-221ac66e5279",
   "metadata": {},
   "source": [
    "<a id=\"task3\"></a>\n",
    "#### Task 3\n",
    "Show that :\n",
    "- For all the $N_x$ $N_y$ plaquette operators, $$[P_{\\beta},P_{\\beta'}]=0$$. \n",
    "- For all the $N_x$ $N_y$ vertex operators, $$[V_{\\alpha},V_{\\alpha'}]=0$$."
   ]
  },
  {
   "cell_type": "markdown",
   "id": "6f2b926d-cd6f-4cf4-a7c8-bb4569daddda",
   "metadata": {},
   "source": [
    "#### Solution\n",
    "\n",
    "Since $[\\sigma_z^{(i)}, \\sigma_z^{(j)}] = 0$ and $[\\sigma_x^{(i)}, \\sigma_x^{(j)}] = 0$, the commutation relations above are true."
   ]
  },
  {
   "cell_type": "markdown",
   "id": "2686a466-d99e-4759-a99c-b6070821527d",
   "metadata": {},
   "source": [
    "<a id=\"task4\"></a>\n",
    "#### Task 4\n",
    "\n",
    "Show that $[V_{\\alpha},P_{\\beta}]=0$ for any vertex $\\alpha$ and any plaquette $\\beta$.\n",
    "\n",
    "#### Solution\n",
    "\n",
    "First, notice that  $$[\\sigma_z^{(i)}, \\sigma_x^{(j)}] = -\\delta_{ij}$$\n",
    "\n",
    "Or \n",
    "- $\\sigma_z^{(i)}\\sigma_x^{(j)}=-\\sigma_x^{(i)}\\sigma_z^{(j)}$ if $i \\neq j$ and\n",
    "- $\\sigma_z^{(i)}\\sigma_x^{(j)}=\\sigma_x^{(i)}\\sigma_z^{(j)}$ if $i=j$.\n",
    "\n",
    "Hence,\n",
    "\n",
    "- If $V_\\alpha$ and $P_\\beta$ do not share any edges, they obviously commute.\n",
    "- When they share edges, they must share exactly two edges.\n",
    "- The anticommutation between each shared $\\sigma^{(i)}_x$ and $\\sigma^{(i)}_z$ accumulates a minus sign. Since there are exactly two shared edges, the net sign accumulated is $(-1)^2 = +1$, meaning the two operators commute."
   ]
  },
  {
   "cell_type": "markdown",
   "id": "43c296ac-9129-4a13-8143-373a72bcd366",
   "metadata": {},
   "source": [
    "<a id=\"task5\"></a>\n",
    "#### Task 5\n",
    "Show that $A^2_\\alpha = 1$ and $B^2_p = 1$"
   ]
  },
  {
   "cell_type": "markdown",
   "id": "7f3389fa-95a4-4155-a9fd-557fc3634204",
   "metadata": {},
   "source": [
    "### Solution\n",
    "\n",
    "This is a result of the properties of Pauli matrices :\n",
    "- Check that $\\sigma_z^2 = \\sigma_x^2 = 1_{2\\times 2}$ such that $1_{2\\times 2}$ is the $2 \\times 2$ identity matrix.\n",
    "- Compute $A_\\alpha^2$ and $B_p^2$."
   ]
  },
  {
   "cell_type": "markdown",
   "id": "286a5ba4-e2f1-46d0-a797-1a84b6fb4a00",
   "metadata": {},
   "source": [
    "<a id=\"task6\"></a>\n",
    "#### Task 6\n",
    "\n",
    "Show that any loop of $\\sigma_x$ operations (loop of flipped qubits) does not break the Rule 1.\n",
    "\n",
    "#### Solution\n",
    "\n",
    "Rule 1 ensures that each vertex has an even number of blue lines (representing down spins) incident upon it. This rule can be understood as a requirement that all configurations must consist of closed loops formed by the blue lines."
   ]
  },
  {
   "cell_type": "markdown",
   "id": "8ce0c346-fbf6-409e-83f9-f523666252ba",
   "metadata": {},
   "source": [
    "<a id=\"task7\"></a>\n",
    "#### Task 7\n",
    "\n",
    "Show that \n",
    "- $e \\times e = I$\n",
    "- $m \\times m = I$\n",
    "- $f \\times f = I$"
   ]
  },
  {
   "cell_type": "markdown",
   "id": "66ce6995-ab2a-4f1e-85e6-95738b365821",
   "metadata": {},
   "source": [
    "### Solution\n",
    "\n",
    "1. Generate one or two pairs of $e$ particles by applying $\\sigma_x$ to a single edge or to two distinct edges.\n",
    "2. Continuously move one of the $e$ particles around by applying successive $\\sigma_x$ operations until it encounters another $e$ particle.\n",
    "3. Observe that the final application of $\\sigma_x$ annihilates the vertex error, leaving the vacuum state $I$.\n"
   ]
  }
 ],
 "metadata": {
  "kernelspec": {
   "display_name": "Python 3 (ipykernel)",
   "language": "python",
   "name": "python3"
  },
  "language_info": {
   "codemirror_mode": {
    "name": "ipython",
    "version": 3
   },
   "file_extension": ".py",
   "mimetype": "text/x-python",
   "name": "python",
   "nbconvert_exporter": "python",
   "pygments_lexer": "ipython3",
   "version": "3.11.7"
  }
 },
 "nbformat": 4,
 "nbformat_minor": 5
}
