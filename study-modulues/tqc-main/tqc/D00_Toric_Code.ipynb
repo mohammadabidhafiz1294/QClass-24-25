{
 "cells": [
  {
   "cell_type": "markdown",
   "id": "12e2c256-ff0e-4ab3-880b-8730b8237411",
   "metadata": {},
   "source": [
    "<a href=\"https://qworld.net\" target=\"_blank\" align=\"left\"><img src=\"../qworld/images/header.jpg\"  align=\"left\"></a>\n",
    "<table> <tr>\n",
    "\n",
    "<table width=\"100%\"><td style=\"background-color:#ffffff;font-size:14px;font-style:italic;text-align:right;\">Prepared by <a href=\"http://cqtech.org\" target=\"_blank\"><b>CQTech</b></a>.</td></table>\n",
    "    \n",
    "$ \\newcommand{\\bra}[1]{\\langle #1|} $\n",
    "$ \\newcommand{\\ket}[1]{|#1\\rangle} $\n",
    "$ \\newcommand{\\braket}[2]{\\langle #1|#2\\rangle} $\n",
    "$ \\newcommand{\\dot}[2]{ #1 \\cdot #2} $\n",
    "$ \\newcommand{\\biginner}[2]{\\left\\langle #1,#2\\right\\rangle} $\n",
    "$ \\newcommand{\\mymatrix}[2]{\\left( \\begin{array}{#1} #2\\end{array} \\right)} $\n",
    "$ \\newcommand{\\myvector}[1]{\\mymatrix{c}{#1}} $\n",
    "$ \\newcommand{\\myrvector}[1]{\\mymatrix{r}{#1}} $\n",
    "$ \\newcommand{\\mypar}[1]{\\left( #1 \\right)} $\n",
    "$ \\newcommand{\\mybigpar}[1]{ \\Big( #1 \\Big)} $\n",
    "$ \\newcommand{\\sqrttwo}{\\frac{1}{\\sqrt{2}}} $\n",
    "$ \\newcommand{\\dsqrttwo}{\\dfrac{1}{\\sqrt{2}}} $\n",
    "$ \\newcommand{\\onehalf}{\\frac{1}{2}} $\n",
    "$ \\newcommand{\\donehalf}{\\dfrac{1}{2}} $\n",
    "$ \\newcommand{\\hadamard}{ \\mymatrix{rr}{ \\sqrttwo & \\sqrttwo \\\\ \\sqrttwo & -\\sqrttwo }} $\n",
    "$ \\newcommand{\\vzero}{\\myvector{1\\\\0}} $\n",
    "$ \\newcommand{\\vone}{\\myvector{0\\\\1}} $\n",
    "$ \\newcommand{\\vhadamardzero}{\\myvector{ \\sqrttwo \\\\  \\sqrttwo } } $\n",
    "$ \\newcommand{\\vhadamardone}{ \\myrvector{ \\sqrttwo \\\\ -\\sqrttwo } } $\n",
    "$ \\newcommand{\\myarray}[2]{ \\begin{array}{#1}#2\\end{array}} $\n",
    "$ \\newcommand{\\X}{ \\mymatrix{cc}{0 & 1 \\\\ 1 & 0}  } $\n",
    "$ \\newcommand{\\Z}{ \\mymatrix{rr}{1 & 0 \\\\ 0 & -1}  } $\n",
    "$ \\newcommand{\\Htwo}{ \\mymatrix{rrrr}{ \\frac{1}{2} & \\frac{1}{2} & \\frac{1}{2} & \\frac{1}{2} \\\\ \\frac{1}{2} & -\\frac{1}{2} & \\frac{1}{2} & -\\frac{1}{2} \\\\ \\frac{1}{2} & \\frac{1}{2} & -\\frac{1}{2} & -\\frac{1}{2} \\\\ \\frac{1}{2} & -\\frac{1}{2} & -\\frac{1}{2} & \\frac{1}{2} } } $\n",
    "$ \\newcommand{\\CNOT}{ \\mymatrix{cccc}{1 & 0 & 0 & 0 \\\\ 0 & 1 & 0 & 0 \\\\ 0 & 0 & 0 & 1 \\\\ 0 & 0 & 1 & 0} } $\n",
    "$ \\newcommand{\\norm}[1]{ \\left\\lVert #1 \\right\\rVert } $\n",
    "$ \\newcommand{\\pstate}[1]{ \\lceil \\mspace{-1mu} #1 \\mspace{-1.5mu} \\rfloor } $"
   ]
  },
  {
   "cell_type": "markdown",
   "id": "b245882c-89bb-4d3d-ac47-7d29f98ea2bc",
   "metadata": {},
   "source": [
    "# Toric code\n",
    "<hr>"
   ]
  },
  {
   "cell_type": "markdown",
   "id": "beadf1f2-fe33-4ddf-ad4b-b3d395e6878c",
   "metadata": {},
   "source": [
    "## What is the toric code? And why?"
   ]
  },
  {
   "cell_type": "markdown",
   "id": "ba45dfb6-fd8b-4518-a21c-7f2de3dd4909",
   "metadata": {},
   "source": [
    "The Toric code is a two-dimensional quantum error-correcting code that protects quantum information by encoding it into the multiple ground states of qubits placed on the edges of the square lattice, interacting with specific vertex and plaquette interactions.\n",
    "\n",
    "Alexei Kitaev engineered this model to be exactly solvable and to exhibit low-energy excitations that are anyonic. Its significance lies in Kitaev's demonstration that anyons could theoretically be employed for fault-tolerant quantum computation. This fault tolerance arises from the ability to encode information in the fusion properties of anyons, which are immune to destruction by local perturbations. Consequently, this model serves as the prototypical concrete lattice model illustrating many of the more abstract concepts in quantum computation."
   ]
  },
  {
   "cell_type": "markdown",
   "id": "334a1010-c3bd-4ee3-8120-b9626509b14e",
   "metadata": {},
   "source": [
    "<hr>\n",
    "\n",
    "<a id=\"100\"></a> \n",
    "## 1.  Toric Code Structure"
   ]
  },
  {
   "cell_type": "markdown",
   "id": "7807431b-86fe-443a-a703-9459df600fd6",
   "metadata": {},
   "source": [
    "A square lattice with dimensions $N_x \\times N_y$ has a qubit (or spin $1/2$) on each edge. The total number of spins is $N = 2N_xN_y$, and correspondingly, the dimension of the Hilbert space is $2^N$. We map this square lattice onto the surface of a torus.\n",
    "\n",
    "<img src=\"../images/plane-lattice.png\" width=\"300\" align=\"center\"/> <img src=\"../images/arrow.png\" width=\"70\" align=\"center\"/> <img src=\"../images/cylinder-lattice.png\" width=\"140\" align=\"center\"/> <img src=\"../images/arrow.png\" width=\"70\" align=\"center\"/> <img src=\"../images/torus_lattice.png\" width=\"300\" align=\"center\"/>"
   ]
  },
  {
   "cell_type": "markdown",
   "id": "cb78118a-54ef-48b0-bb15-57af229db902",
   "metadata": {},
   "source": [
    "Throughout our study, we work with the eigenstates of $ \\sigma_z $, denoted as {$ \\ket{0}, \\ket{1} $}."
   ]
  },
  {
   "attachments": {},
   "cell_type": "markdown",
   "id": "b889a2af-f9b2-4a1c-b0bf-c75ed9ff8193",
   "metadata": {},
   "source": [
    "<img src=\"../images/edge_spins_lattice.png\" width=\"700\" align=\"center\"/>"
   ]
  },
  {
   "cell_type": "markdown",
   "id": "4cf6d3f5-9abe-4fc5-9288-16e03af3cfbf",
   "metadata": {},
   "source": [
    "Let us create this lattice using Qiskit tools. First, we can identify qubit position by :\n",
    "1. Locating a plaquette $x$ and $y$ coordinates.\n",
    "2. Specifying whther the qubit is in the *left* (west) or the *bottom* (south) edge.\n",
    "\n",
    "Notice that the upper and right edges belong to the neighbour plaquettes."
   ]
  },
  {
   "cell_type": "code",
   "execution_count": null,
   "id": "793f5698-ce56-41c7-9b30-41c876975576",
   "metadata": {},
   "outputs": [],
   "source": [
    "from qiskit import QuantumCircuit, QuantumRegister"
   ]
  },
  {
   "cell_type": "code",
   "execution_count": null,
   "id": "b711fc10-a903-475d-b466-4dadbce75fa6",
   "metadata": {},
   "outputs": [],
   "source": [
    "class ToricLattice:\n",
    "    \"\"\"\n",
    "    This class creates a toric lattice of spin qubits.\n",
    "\n",
    "    Attributes:\n",
    "    -----------\n",
    "        nx      : int\n",
    "        ny      : int\n",
    "        circuit : \"QuantumCircuit\"\n",
    "\n",
    "    Methods:\n",
    "    --------\n",
    "        apply_x\n",
    "        apply_y\n",
    "        apply_vertex_operator\n",
    "    \"\"\"\n",
    "    def __init__(self, nx, ny):\n",
    "        \"\"\"\n",
    "        Inputs:\n",
    "        -------\n",
    "            nx : Number of edges (qubits) in the x axis\n",
    "            ny : Number of edges (qubits) in the y axis\n",
    "        \"\"\"\n",
    "        self.nx = nx\n",
    "        self.ny = ny\n",
    "        self.qubits = {}\n",
    "        for col in range(nx):\n",
    "            for row in range(ny):\n",
    "                self.qubits[f\"left_{col}.{row}\"] = QuantumRegister(size=1, name=f\"left_{col}.{row}\")\n",
    "                self.qubits[f\"down_{col}.{row}\"] = QuantumRegister(size=1, name=f\"down_{col}.{row}\")\n",
    "        self.circuit = QuantumCircuit(*self.qubits.values())\n",
    "\n",
    "    def apply_x(self, plaquette_pos, edge):\n",
    "        \"\"\"\n",
    "        Applies X gate on the qubit in the specific plaquette and edge.\n",
    "\n",
    "        Inputs:\n",
    "        -------\n",
    "            plaquette_pos : Tuple,\n",
    "                x and y coordinates\n",
    "            edge          : str,\n",
    "                'left' or 'down'\n",
    "        \"\"\"\n",
    "        self.circuit.x(self.qubits[f\"{edge}_{plaquette_pos[0]}.{plaquette_pos[1]}\"])\n",
    "\n",
    "    def apply_z(self, plaquette_pos, edge):\n",
    "        \"\"\"\n",
    "        Applies Z gate on the qubit in the specific plaquette and edge.\n",
    "\n",
    "        Inputs:\n",
    "        -------\n",
    "            plaquette_pos : Tuple,\n",
    "                x and y coordinates\n",
    "            edge          : str,\n",
    "                'left' or 'down'\n",
    "        \"\"\"\n",
    "        self.circuit.z(self.qubits[f\"{edge}_{plaquette_pos[0]}.{plaquette_pos[1]}\"])\n",
    "\n",
    "    def apply_h(self, plaquette_pos, edge):\n",
    "        \"\"\"\n",
    "        Applies Hadamard gate on the qubit in the specific plaquette and edge.\n",
    "\n",
    "        Inputs:\n",
    "        -------\n",
    "            plaquette_pos : Tuple,\n",
    "                x and y coordinates\n",
    "            edge          : str,\n",
    "                'left' or 'down'\n",
    "        \"\"\"\n",
    "        self.circuit.h(self.qubits[f\"{edge}_{plaquette_pos[0]}.{plaquette_pos[1]}\"])"
   ]
  },
  {
   "cell_type": "markdown",
   "id": "29351f74-1c6f-4cbc-b013-4849e2c6799d",
   "metadata": {},
   "source": [
    "#### Task 1\n",
    "\n",
    "1. Create a $4\\times 4$ toric lattice\n",
    "2. Initialize the qubits in the positions $[(0, 0), \\text{'down'}]$, $[(0, 1), \\text{'down'}]$ and $[(0, 3), \\text{'down'}]$ in the $\\vert 1 \\rangle$ state.\n",
    "3. Initialize the qubits in the positions $[(2, 0), \\text{'down'}]$, $[(2, 1), \\text{'down'}]$ and $[(2, 3), \\text{'down'}]$ in the $\\vert + \\rangle$ state."
   ]
  },
  {
   "cell_type": "markdown",
   "id": "5413f31d-edbc-4de5-b1d3-80ee3d25a7a8",
   "metadata": {},
   "source": [
    "[click for our solution](D00_Toric_Code_Solutions.ipynb#task1)"
   ]
  },
  {
   "cell_type": "markdown",
   "id": "c8a6a0bb-3b4e-4818-a5f7-d9b4257396ca",
   "metadata": {},
   "source": [
    "<hr>\n",
    "\n",
    "<a id=\"100\"></a> \n",
    "## 2. Vertex and Plaquette Operators"
   ]
  },
  {
   "cell_type": "markdown",
   "id": "25c1ae0e-a22a-4a5b-96cc-684710399b4d",
   "metadata": {},
   "source": [
    "Let us now define some simple operators on this Hilbert space of the toric lattice of qubits. We \n",
    "willneed theme to build theinteraction and the  toric code\r"
   ]
  },
  {
   "cell_type": "markdown",
   "id": "714fde2e-50fc-4b0b-b0f5-dfe0d813709a",
   "metadata": {},
   "source": [
    "<a id=\"110\"></a>\n",
    "### 2.1 Vertex Operators"
   ]
  },
  {
   "cell_type": "markdown",
   "id": "ced898e0-3525-417f-abee-f46f67ee0caa",
   "metadata": {},
   "source": [
    "Given a vertex $\\alpha$ $\\left(v_\\alpha\\right)$ which consists of four incident edges $ i \\in v_\\alpha$, we define the vertex operator as \n",
    "$$ V_{\\alpha} = \\prod_{i \\in v_\\alpha} \\sigma_z^{(i)} $$\n",
    "\n",
    "This is just the product of $\\sigma_z$ applied to the four spins incident on the vertex. This operator simply counts the parity of the number of down spins (number of colored edges) incident on the vertex. It returns $+1$ if there are an even number of incident down spins at that vertex and returns $−1$ if there are an odd number, as showing in the following picture."
   ]
  },
  {
   "attachments": {},
   "cell_type": "markdown",
   "id": "fb48e85d-73ad-4f88-86ae-5da982821ccf",
   "metadata": {},
   "source": [
    "<img src=\"../images/vertex_op_lattice.png\" width=\"700\" align=\"center\"/>"
   ]
  },
  {
   "cell_type": "markdown",
   "id": "4060c452-3b46-483e-93f8-680f7ca5b82f",
   "metadata": {},
   "source": [
    "<a id=\"110\"></a>\n",
    "### 2.2 Plaquette Operators"
   ]
  },
  {
   "cell_type": "markdown",
   "id": "6d906894-037d-47f9-a590-b9b6c321d1f4",
   "metadata": {},
   "source": [
    "Given a plaquette $\\beta$ $\\left(p_\\beta\\right)$ which contains four edges in a square (edge  $ i \\in p_\\beta$), we define the plaquette operator\n",
    "\n",
    "$$ P_{\\beta} = \\prod_{i \\in p_\\beta} \\sigma_x^{(i)} $$\n"
   ]
  },
  {
   "cell_type": "markdown",
   "id": "5082d1ac-23dd-419e-8a06-3ec286d1b436",
   "metadata": {},
   "source": [
    "which flips the (up/down) state of the spins on all of the edges of the plaquette as depicted in the picture bellow. On an $N_x$ by $N_y$ lattice, there are a total of $N_x$ $N_y$ plaquette operators."
   ]
  },
  {
   "attachments": {},
   "cell_type": "markdown",
   "id": "397afed5-124a-4733-a1ab-46268797c2d7",
   "metadata": {},
   "source": [
    "<img src=\"../images/plaquette_op_lattice.png\" width=\"900\" align=\"center\"/>"
   ]
  },
  {
   "cell_type": "markdown",
   "id": "1175e5bd-0da2-435a-91f2-4231642083af",
   "metadata": {},
   "source": [
    "Notice that plaquette operators $P_\\beta$ when applied :\n",
    "1. do not change the parity of vertices.\n",
    "2. do not change the parity of number of red lines in any specific vertical or horizental line."
   ]
  },
  {
   "cell_type": "markdown",
   "id": "3a247b2d-6b58-42a4-a095-50be8a06950a",
   "metadata": {},
   "source": [
    "#### Task 2\n",
    "\n",
    "- What are the eigenstates of a Plaquette operator ?"
   ]
  },
  {
   "cell_type": "markdown",
   "id": "9c96cfaf-2537-4ae2-bd51-aba925619644",
   "metadata": {},
   "source": [
    "[click for our solution](D00_Toric_Code_Solutions.ipynb#task2)"
   ]
  },
  {
   "cell_type": "markdown",
   "id": "cc5eebfb-2a10-4d7a-b385-221ac66e5279",
   "metadata": {},
   "source": [
    "#### Task 3\n",
    "Show that :\n",
    "- for all the $N_x$ $N_y$ plaquette operators, $$[P_{\\beta},P_{\\beta'}]=0$$. \n",
    "- For all the $N_x$ $N_y$ vertex operators, $$[V_{\\alpha},V_{\\alpha'}]=0$$."
   ]
  },
  {
   "cell_type": "markdown",
   "id": "4ddd9f48-df1c-41a8-bb9a-b7111e89ecde",
   "metadata": {},
   "source": [
    "[click for our solution](D00_Toric_Code_Solutions.ipynb#task3)"
   ]
  },
  {
   "cell_type": "markdown",
   "id": "0262a6c4-c94e-4663-9d96-eaf5c5a895fe",
   "metadata": {},
   "source": [
    "#### Is it a Complete Set of Operators?"
   ]
  },
  {
   "cell_type": "markdown",
   "id": "b334d92a-defc-450d-8059-e1b7cb76bf13",
   "metadata": {},
   "source": [
    "\n",
    "In other words, if we specify the eigenstate of each of these operators, do we specify a unique state for the qubits?\n",
    "\n",
    "They seem to construct a complete set since they commute with each other. However, there are two constraints:\n",
    "\n",
    "$$\\prod_{\\alpha} V_{\\alpha} = 1$$\n",
    "$$\\prod_{\\beta} P_{\\beta} = 1$$\n",
    "\n",
    "This allows us to specify the eigenvalues $(\\pm1)$ of $(N_x N_y −1)$ of $V_{\\alpha}$ operators freely, with the value of the one remaining $V_{\\alpha}$ fixed by the others.\n",
    "\n",
    "The same applies to $P_{\\beta}$.\n",
    "\n",
    "Specifying the eigenvalues of these operators only accounts for $2(N_x N_y −1)$ binary choices.\n",
    "\n",
    "With $2N_x N_y$ spins initially, two binary choices (two $\\pm1$ degrees of freedom) remain unspecified.\n",
    "\n",
    "These two degrees of freedom represent the two error-protected qubits in the toric code scheme for building a quantum error-correcting code. That means four logical states."
   ]
  },
  {
   "cell_type": "markdown",
   "id": "2686a466-d99e-4759-a99c-b6070821527d",
   "metadata": {},
   "source": [
    "#### Task 4\n",
    "\n",
    "Show that $[V_{\\alpha},P_{\\beta}]=0$ for any vertex $\\alpha$ and any plaquette $\\beta$."
   ]
  },
  {
   "cell_type": "markdown",
   "id": "86d9eeb6-08b8-4871-99e4-0abc5434c84b",
   "metadata": {},
   "source": [
    "[click for our solution](D00_Toric_Code_Solutions.ipynb#task4)"
   ]
  },
  {
   "cell_type": "markdown",
   "id": "43c296ac-9129-4a13-8143-373a72bcd366",
   "metadata": {},
   "source": [
    "#### Task 5\n",
    "Show that $A^2_𝑣 = 1$ and $B^2_p = 1$"
   ]
  },
  {
   "cell_type": "markdown",
   "id": "bd87b25a-b3c9-41a9-b63b-13f68c4d5012",
   "metadata": {},
   "source": [
    "[click for our solution](D00_Toric_Code_Solutions.ipynb#task5)"
   ]
  },
  {
   "cell_type": "markdown",
   "id": "137a4e49-21f6-4ccf-92e3-b1274ea1bf08",
   "metadata": {},
   "source": [
    " <a id=\"110\"></a>\n",
    "### 2.3 Building the Code Space\n",
    " "
   ]
  },
  {
   "cell_type": "markdown",
   "id": "1613189a-ceee-43d8-a0c6-0175145d0d5d",
   "metadata": {},
   "source": [
    "Toric code is used to store quantum information protected from quantum errors and it is widely studied in quantum error correction. In order to store quantum information, we should define the code space to distinguish the legal states from unwanted states, by implementing two simple rules that define our code space. We must check to see that the two rules remain satisfied. If we find that they are not satisfied we know a physical error has occurred, the system has left the code space, and we must then go about trying to correct it.\n",
    "* #### Rule 1:\n",
    "  Specify that  $V_{\\alpha}= 1$ for every vertex.\n",
    "\n",
    "  If it ever finds that $V_{\\alpha}= −1$ then we know we are no longer in the code space, an error has occurred that we must try to repair.\n",
    " \n",
    "* #### Rule 2:\n",
    "  Specify that $P_{\\beta} = 1$ for every plaquette.\n",
    "  \n",
    "  If these operators are measured to have a −1 eigenvalue then we know an error has occurred.\n",
    "\n",
    "**Rule 1 remains satisfied when we check Rule 2, since $[V_{\\alpha},P_{\\beta}]=0$**\n",
    "  \n",
    "\n"
   ]
  },
  {
   "cell_type": "markdown",
   "id": "286a5ba4-e2f1-46d0-a797-1a84b6fb4a00",
   "metadata": {},
   "source": [
    "#### Task 6\n",
    "\n",
    "Show that any loop of $\\sigma_x$ operations (loop of flipped qubits) does not break the Rule 1."
   ]
  },
  {
   "cell_type": "markdown",
   "id": "fd2dc94a-cef3-4ce8-bf96-c155aece898c",
   "metadata": {},
   "source": [
    "[click for our solution](D00_Toric_Code_Solutions.ipynb#task6)"
   ]
  },
  {
   "cell_type": "markdown",
   "id": "d5ccc9c8-55c0-4d93-b781-d10e67529181",
   "metadata": {},
   "source": [
    "The operators $V_{\\alpha}$ and $P_{\\beta} $ are known as the **stabilizers** of the code. The code space is unchanged under the application of these operators.\n",
    "\n",
    "For constructing a wavefunction that satisfies both Rule 1 and Rule 2, \n",
    "1. The wavefunction should include clearly loops of flipped edges to satisfy Rule 1.\n",
    "2. We superpose those looped configurations to satisfy Rule 2.\n",
    "\n",
    "$$ |\\psi>= \\sum_{\\text{All  loop  configs}} \\frac{1}{\\sqrt N} |\\text{loop config} >  $$\n",
    "\n",
    "$N$ is the normalization constant. By adding up all such flipped configurations, we assure that every plaquette is in the correct superpositon of flipped and unflipped and we satisfy Rule 2!\n",
    "\n",
    "There are four independent wavefunctions of this form which differ in whether the reference configuration has an even or an odd number of blue edges going around each cycle. All of these states satisfy the constraint rules 1 and 2.\n",
    "\n",
    "$$ \\vert\\psi_{ee}\\rangle, \\vert\\psi_{eo}\\rangle, \\vert\\psi_{oe}\\rangle, \\vert\\psi_{oo}\\rangle $$\n",
    "\n",
    "where $e$ and $o$ means an even or an odd number of blue lines going around a given cycle.\n"
   ]
  },
  {
   "attachments": {},
   "cell_type": "markdown",
   "id": "81b5c7e9-c338-4239-96ac-fc507d2499a2",
   "metadata": {},
   "source": [
    "<img src=\"../images/ground_states.png\" width=\"900\" align=\"center\"/>"
   ]
  },
  {
   "cell_type": "markdown",
   "id": "1c3cde76-2dbb-43ea-a560-8513e9554839",
   "metadata": {},
   "source": [
    "$$|\\psi\\rangle = \\alpha|\\psi_{ee}\\rangle + \\beta|\\psi_{eo}\\rangle + \\gamma|\\psi_{oe}\\rangle + \\delta|\\psi_{oo}\\rangle$$\n",
    "with arbitrary complex coefficients $\\alpha$, $\\beta$, $\\gamma$, $\\delta$ subject to the normalization condition $|\\alpha|^2 + |\\beta|^2 + |\\gamma|^2 + |\\delta|^2 = 1$.\r\n",
    "\r\n"
   ]
  },
  {
   "cell_type": "markdown",
   "id": "8c39b0cd-66da-425c-ad91-b3953a0176cc",
   "metadata": {},
   "source": [
    "<a id=\"110\"></a>\n",
    "### 2.4 Errors and Error Correction"
   ]
  },
  {
   "cell_type": "markdown",
   "id": "e4b5c4bb-1365-40cc-a76f-c72b87c4d1a3",
   "metadata": {},
   "source": [
    "<a id=\"110\"></a>\n",
    "#### 2.4.1 $\\sigma_x$ Error"
   ]
  },
  {
   "cell_type": "markdown",
   "id": "3d7e2712-f809-4d28-8d4c-2efcb099ee67",
   "metadata": {},
   "source": [
    " **$\\Rightarrow $ Rule 1 is not satisfied**\n",
    "\n",
    " $\\sigma_x$ is applied on edge $i$, this leads to: $ [\\sigma_x,P_{\\beta}] =0$ but $[\\sigma_x,V_{\\alpha}] \\neq 0$ $\\Rightarrow V_{\\alpha} = -1$\n",
    "\n",
    "To restore the ground state (code space), defects need to be brought back together to re-annihilate. $\\Rightarrow $ **closed loop**. As shown in the image:"
   ]
  },
  {
   "attachments": {},
   "cell_type": "markdown",
   "id": "78d40505-e2be-4845-b8f8-6cf73fc6e968",
   "metadata": {},
   "source": [
    "<img src=\"../images/vertex_correction.png\" width=\"900\" align=\"center\"/>\n",
    "\n",
    "The yellow X symbol means that $V_\\alpha$ value is $-1$."
   ]
  },
  {
   "cell_type": "markdown",
   "id": "31dfa60d-039f-4428-b186-1759b462c739",
   "metadata": {},
   "source": [
    "<a id=\"110\"></a>\n",
    "#### 2.4.2 $\\sigma_z$ Error"
   ]
  },
  {
   "cell_type": "markdown",
   "id": "2940ceca-6357-420a-9b90-597b352d36ba",
   "metadata": {},
   "source": [
    " **$\\Rightarrow $ Rule 1 is not satisfied**\n",
    "\n",
    " $\\sigma_z$ is applied on edge $i$, this leads to: $[\\sigma_z,P_{\\beta}] \\neq 0$ $\\Rightarrow P_{\\beta} = -1$\n",
    "\n",
    " To restore the ground state (code space), defects need to be brought back together to re-annihilate.$\\Rightarrow $ **closed dual loop** same way as above and as shown in the image bellow:"
   ]
  },
  {
   "attachments": {},
   "cell_type": "markdown",
   "id": "33e5de06-e998-4a4d-a3c1-18be81483200",
   "metadata": {},
   "source": [
    "<img src=\"../images/plaquette_correction.png\" width=\"900\" align=\"center\"/>\n",
    "\n",
    "The purple X symbol means that $P_\\beta$ value is $-1$."
   ]
  },
  {
   "cell_type": "markdown",
   "id": "100a2213-c663-422f-904d-6936e1fdfd2b",
   "metadata": {},
   "source": [
    "<hr>\n",
    "\n",
    "<a id=\"100\"></a> \n",
    "## 3. The Toric code as a fusion model of anyons"
   ]
  },
  {
   "cell_type": "markdown",
   "id": "160cbd88-aca9-4a73-9b68-861cab978436",
   "metadata": {},
   "source": [
    "The toric code can be seen as a phas eof matter. To recast the toric code as a phase of matter, we simply write a **Hamiltanian** which is a sum of all our vertex and plaquette operators:\n",
    "$$ H = − \\sum_{\\alpha} V_{\\alpha} − \\sum_{\\beta} P_{\\beta} $$\n",
    "\n",
    "The lowest energy configurations or the ground states are obtained by setting all the $V_{\\alpha} =+1$ and $P_{\\beta}=+1$."
   ]
  },
  {
   "cell_type": "markdown",
   "id": "960541f4-747d-4107-9a16-8d905c374509",
   "metadata": {},
   "source": [
    "<a id=\"110\"></a>\n",
    "### 3.1 Excitations and Fusion Rules"
   ]
  },
  {
   "cell_type": "markdown",
   "id": "60974c19-0d4f-4498-bbac-1e23b3b213b7",
   "metadata": {},
   "source": [
    "**Excitations are local defects giving energy differences or errors in the language of quantum error correction where different states cannot be distinguished by local measurment**\n",
    "\n",
    "If there are vertices with $V_{\\alpha}= −1$ or plaquettes where $P_{\\beta} = −1$ $\\Rightarrow $ The system is not in the ground state space anymore $\\Rightarrow $ Excitations or Quasiparticles.\n",
    "\n",
    "There are three types of particles that can be found, as follows:\n",
    "\n",
    "- The vacuum or identity particle (denoted as $I$) represents the absence of a particle.\n",
    "- A vertex where $V_{\\alpha} = -1$ instead of $V_{\\alpha} = +1$, denoted as $e$ particle or the *electric particle*.\n",
    "- A plaquette where $P_{\\beta} = -1$ instead of $P_{\\beta} = +1$, denoted as $m$ particle or the *magnetic particle*.\n",
    "- The $f$ particle, which is the fusion or combination of the electric and magnetic particles (fusion of vertex and plaquette defects).\n",
    "\n",
    "In the more common notation we would write the fusion rules of our excitations as:\n"
   ]
  },
  {
   "cell_type": "markdown",
   "id": "33bc7bf9-1e8e-4043-82a7-a8de333cf6a1",
   "metadata": {},
   "source": [
    "\\begin{array}{c|cccc}\n",
    "\\times & I & e & m & f \\\\\n",
    "\\hline\n",
    "I & I & e & m & f \\\\\n",
    "e & e & I & f & m \\\\\n",
    "m & m & f & I & e \\\\\n",
    "f & f & m & e & I\n",
    "\\end{array}"
   ]
  },
  {
   "cell_type": "markdown",
   "id": "481e455e-804b-4bf3-b9d7-26be1d0a0f3b",
   "metadata": {},
   "source": [
    "- $e, m, f, I$ form a closed set.\n",
    "- There are no **non-abelian** fusion rules $\\Rightarrow $ **Abelian anyons**.\n",
    "- Four particle types\n",
    "- Four ground states on the torus."
   ]
  },
  {
   "cell_type": "markdown",
   "id": "8ce0c346-fbf6-409e-83f9-f523666252ba",
   "metadata": {},
   "source": [
    "#### Task 7\n",
    "\n",
    "Show that \n",
    "- $e \\times e = I$\n",
    "- $m \\times m = I$\n",
    "- $f \\times f = I$"
   ]
  },
  {
   "cell_type": "markdown",
   "id": "9a9ccc22-61cd-49ec-8cd0-21ed239e663e",
   "metadata": {},
   "source": [
    "[click for our solution](D00_Toric_Code_Solutions.ipynb#task7)"
   ]
  },
  {
   "cell_type": "markdown",
   "id": "9bcc3b3e-b2ac-4b0d-98dd-9067f200729f",
   "metadata": {},
   "source": [
    "<a id=\"110\"></a>\n",
    "### 3.2 Anyonic statistics\n",
    "\n",
    "To fully study the statistics of these particles, we should examine :\n",
    "1. The phase accumulated of braiding or rotating one type excitation all around other types,\n",
    "   \\begin{array}{c|cccc}\n",
    "    \\text{around} & I & e & m & f \\\\\n",
    "    \\hline\n",
    "    I & 1 & 1 & 1 & 1 \\\\\n",
    "    e & 1 & 1 & -1 & 1 \\\\\n",
    "    m & 1 & -1 & 1 & -1 \\\\\n",
    "    f & 1 & -1 & -1 & 1\n",
    "    \\end{array}\n",
    "   <img src=\"../images/S.png\" width=\"300\" align=\"center\"/>\n",
    "   </hr>\n",
    "\n",
    "3. The phase obtained by rotating one type of particle around itself.\n",
    "   \\begin{array}{c|cccc}\n",
    "    \\text{twist} & I & e & m & f \\\\\n",
    "    \\hline\n",
    "    I & 1 & 0 & 0 & 0 \\\\\n",
    "    e & 0 & 1 & 0 & 0 \\\\\n",
    "    m & 0 & 0 & 1 & 0 \\\\\n",
    "    f & 0 & 0 & 0 & -1\n",
    "    \\end{array}\n",
    "   <img src=\"../images/T.png\" width=\"300\" align=\"center\"/>"
   ]
  },
  {
   "cell_type": "markdown",
   "id": "4681772e-c02a-4b5a-9fec-513d8c3c227a",
   "metadata": {},
   "source": [
    "## Conclusion\n",
    "\n",
    "1. Topological quantum codes can be employed for quantum error correction.\n",
    "2. Local excitations of the topological codes exhibit anyonic behavior.\n",
    "3. The toric code gives rise to abelian anyons.\n",
    "4. Although toric code anyons are abelian, the topology of the torus differentiates between multiple ground states (logical states)."
   ]
  },
  {
   "cell_type": "markdown",
   "id": "1e611934-d39f-45c7-a25d-0a9737dea699",
   "metadata": {},
   "source": [
    "<a id=\"111\"></a>\n",
    "### References\n",
    "- <a id=\"ref1\"></a> [Fault-tolerant quantum computation by anyons](https://arxiv.org/abs/quant-ph/9707021)\n",
    "- <a id=\"ref2\"></a> [Eric Dennis, Alexei Kitaev, Andrew Landahl, and John Preskill. Topological quantum memory.\n",
    "  Journal of Mathematical Physics, 43:4452–4505, 2002.](https://arxiv.org/abs/quant-ph/0110143)\n",
    "- <a id=\"ref3\"></a> [Paul Herringer. The Toric Code. arXiv:2207.00616v2.](https://arxiv.org/abs/2207.00616v1)\n",
    "- <a id=\"ref4\"></a> [Jiannis K . Pachos. Introduction to Topological Quantum Computation (Cambridge University\n",
    "  Press). 2012.](https://arxiv.org/abs/1705.04103v1)\n",
    "- <a id=\"ref5\"></a> [Joschka Roffe. Quantum Error Correction: An Introductory Guide.](https://arxiv.org/abs/1907.11157v1)\n",
    "- <a id=\"ref6\"></a> [Steven H. Simon. Topological Quantum (Oxford University Press)](https://www-thphys.physics.ox.ac.uk/people/SteveSimon/)"
   ]
  }
 ],
 "metadata": {
  "kernelspec": {
   "display_name": "Python 3 (ipykernel)",
   "language": "python",
   "name": "python3"
  },
  "language_info": {
   "codemirror_mode": {
    "name": "ipython",
    "version": 3
   },
   "file_extension": ".py",
   "mimetype": "text/x-python",
   "name": "python",
   "nbconvert_exporter": "python",
   "pygments_lexer": "ipython3",
   "version": "3.11.7"
  }
 },
 "nbformat": 4,
 "nbformat_minor": 5
}
